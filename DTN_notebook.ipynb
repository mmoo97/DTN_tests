{
 "cells": [
  {
   "cell_type": "code",
   "execution_count": null,
   "metadata": {},
   "outputs": [],
   "source": [
    "import globus_sdk\n",
    "import matplotlib.pyplot as plt\n",
    "import numpy as np\n",
    "import csv"
   ]
  },
  {
   "cell_type": "code",
   "execution_count": null,
   "metadata": {},
   "outputs": [],
   "source": [
    "''' Access Variables '''\n",
    "\n",
    "CLIENT_ID = '7a71f6ff-14d4-4e3a-8dbf-0e23a573f519' # this can be obtained from Apps and Services -> Projects -> Client ID\n",
    "destination_endpoint_id = \"9c8c88c2-ea4a-11e6-b9ba-22000b9a448b\" \n",
    "source_endpoint_id_list = [\"ff3045ea-a112-11ea-8f07-0a21f750d19b\"]\n",
    "source_dirs = \"/globus/datasets/ds01/\"\n",
    "dest_dir = \"/data/user/mmoo97/TEST_TRANSFER/\""
   ]
  },
  {
   "cell_type": "code",
   "execution_count": null,
   "metadata": {},
   "outputs": [],
   "source": [
    "''' Code to get access token'''\n",
    "\n",
    "client = globus_sdk.NativeAppAuthClient(CLIENT_ID)\n",
    "client.oauth2_start_flow(refresh_tokens=True)\n",
    "\n",
    "authorize_url = client.oauth2_get_authorize_url()\n",
    "print('Please go to this URL and login: {0}'.format(authorize_url))\n",
    "\n",
    "# this is to work on Python2 and Python3 -- you can just use raw_input() or\n",
    "# input() for your specific version\n",
    "get_input = getattr(__builtins__, 'raw_input', input)\n",
    "auth_code = get_input(\n",
    "    'Please enter the code you get after login here: ').strip()\n",
    "token_response = client.oauth2_exchange_code_for_tokens(auth_code)\n",
    "\n",
    "globus_auth_data = token_response.by_resource_server['auth.globus.org']\n",
    "globus_transfer_data = token_response.by_resource_server['transfer.api.globus.org']\n",
    "# the refresh token and access token, often abbr. as RT and AT\n",
    "transfer_rt = globus_transfer_data['refresh_token']\n",
    "transfer_at = globus_transfer_data['access_token']\n",
    "expires_at_s = globus_transfer_data['expires_at_seconds']\n"
   ]
  },
  {
   "cell_type": "code",
   "execution_count": null,
   "metadata": {},
   "outputs": [],
   "source": [
    "# Now we've got the data we need, but what do we do?\n",
    "# That \"GlobusAuthorizer\" from before is about to come to the rescue\n",
    "\n",
    "authorizer = globus_sdk.RefreshTokenAuthorizer(\n",
    "    transfer_rt, client, access_token=transfer_at, expires_at=expires_at_s)\n",
    "\n",
    "tc = globus_sdk.TransferClient(authorizer=authorizer)\n",
    "\n",
    "# high level interface; provides iterators for list responses\n",
    "print(\"My Endpoints:\")\n",
    "for ep in tc.endpoint_search(filter_scope=\"recently-used\"):\n",
    "    print(\"[{}] {}\".format(ep[\"id\"], ep[\"display_name\"]))\n",
    "    \n",
    "    \n",
    "for task in tc.task_list():\n",
    "    print(\"Task({}): {} -> {}\".format(\n",
    "        task[\"task_id\"], task[\"source_endpoint\"],\n",
    "        task[\"destination_endpoint\"]))\n",
    "    "
   ]
  },
  {
   "cell_type": "code",
   "execution_count": null,
   "metadata": {},
   "outputs": [],
   "source": [
    "tc.update_task\n",
    "tdata = globus_sdk.TransferData(tc, source_endpoint_id_list[0],\n",
    "                                 destination_endpoint_id,\n",
    "                                 label=\"Dataset Test\",\n",
    "                                sync_level=None, verify=\"checksum\")\n",
    "# tdata.add_item(\"/globus/datasets/ds04/\", \"/data/user/mmoo97/TEST_TRANSFER/\",\n",
    "#                 recursive=True)\n",
    "# for item in tdata.items:\n",
    "#     print(item)\n",
    "tdata.add_item(source_dirs, dest_dir,\n",
    "                recursive=True)\n",
    "transfer_result = tc.submit_transfer(tdata)\n",
    "print(\"task_id =\", transfer_result[\"task_id\"])"
   ]
  },
  {
   "cell_type": "code",
   "execution_count": null,
   "metadata": {},
   "outputs": [],
   "source": [
    "# task = tc.get_task(transfer_result[\"task_id\"])\n",
    "task = tc.get_task(\"750a002a-0901-11eb-abd6-0213fe609573\")\n",
    "if task[\"status\"] == \"SUCCEEDED\":\n",
    "    print(\"Task Status: \" + task[\"status\"])\n",
    "    print(\"Effective Speed: \" + str(round(task[\"effective_bytes_per_second\"]/(1024*1024), 2)) + \" MB/s\")\n",
    "else:\n",
    "    print(\"Task Status: \" + task[\"status\"])\n",
    "    print(\"MB Transferred: \" + str(round(task[\"bytes_transferred\"]/1000000, 2)) + \" MB\")"
   ]
  },
  {
   "cell_type": "code",
   "execution_count": null,
   "metadata": {},
   "outputs": [],
   "source": [
    "# File parse\n",
    "ds_sizes = {'ds01': 0.1, 'ds04':10, 'ds06':100, 'ds08': 1000, 'ds10': 1000, 'ds12':100, \n",
    "            'ds14': 5000, 'ds16': 1000} # sizes given in gigabytes\n",
    "\n",
    "ds_names = ['ds01', 'ds04', 'ds06', 'ds08', 'ds10', 'ds12', \n",
    "            'ds14', 'ds16']\n",
    "\n",
    "src_to_oncampx = []\n",
    "src_to_oncampy = []\n",
    "oncampx_to_src = []\n",
    "oncampy_to_src= []\n",
    "\n",
    "src_to_offcampx = []\n",
    "src_to_offcampy = []\n",
    "offcampx_to_src = []\n",
    "offcampy_to_src= []\n",
    "\n",
    "\n",
    "num_rows = 0\n",
    "with open('oncampus_data.csv','r') as csvfile:\n",
    "    plots = csv.reader(csvfile, delimiter=',')\n",
    "    for row in plots:\n",
    "        try:\n",
    "            if (row[0][0] == \"d\") and (row[0][1] == 's'):\n",
    "                \n",
    "                if num_rows < 8: # distinguishes transfers from source to UAB.\n",
    "                    src_to_oncampx.append(ds_sizes.get(row[0]))\n",
    "                    src_to_oncampy.append(float(row[3]))\n",
    "                    \n",
    "                if num_rows >= 8: # distinguishes transfers from UAB to source.\n",
    "                    oncampx_to_src.append(ds_sizes.get(row[0]))\n",
    "                    oncampy_to_src.append(float(row[3]))\n",
    "            \n",
    "            num_rows += 1\n",
    "            \n",
    "        except IndexError:\n",
    "            # blank text will have been caught here\n",
    "            pass\n",
    "        \n",
    "    print(num_rows)"
   ]
  },
  {
   "cell_type": "code",
   "execution_count": 5,
   "metadata": {},
   "outputs": [
    {
     "data": {
      "image/png": "[encoded data removed]",
      "text/plain": [
       "<Figure size 432x288 with 1 Axes>"
      ]
     },
     "metadata": {
      "needs_background": "light"
     },
     "output_type": "display_data"
    }
   ],
   "source": [
    "\n",
    "x = np.arange(len(ds_names))  # the label locations\n",
    "width = 0.35  # the width of the bars\n",
    "\n",
    "fig, ax = plt.subplots()\n",
    "rects1 = ax.bar(x - width/2, src_to_oncampy, width, label='Source > OnCampus')\n",
    "rects2 = ax.bar(x + width/2, oncampy_to_src, width, label='OnCampus > Source')\n",
    "\n",
    "# Add some text for labels, title and custom x-axis tick labels, etc.\n",
    "ax.set_ylabel('Speed (MB/s)')\n",
    "ax.set_title('DTN Comparison to and from OnCampus Endpoint')\n",
    "ax.set_xticks(x)\n",
    "ax.set_xticklabels(ds_names)\n",
    "ax.legend()\n",
    "\n",
    "\n",
    "def autolabel(rects):\n",
    "    \"\"\"Attach a text label above each bar in *rects*, displaying its height.\"\"\"\n",
    "    for rect in rects:\n",
    "        height = rect.get_height()\n",
    "        ax.annotate('{}'.format(height),\n",
    "                    xy=(rect.get_x() + rect.get_width() / 2, height),\n",
    "                    xytext=(0, 3),  # 3 points vertical offset\n",
    "                    textcoords=\"offset points\",\n",
    "                    ha='center', va='bottom')\n",
    "\n",
    "\n",
    "autolabel(rects1)\n",
    "autolabel(rects2)\n",
    "\n",
    "fig.tight_layout()\n",
    "\n",
    "plt.show()"
   ]
  },
  {
   "cell_type": "code",
   "execution_count": null,
   "metadata": {},
   "outputs": [],
   "source": [
    "plt.clf()\n",
    "x = np.arange(len(ds_names))  # the label locations\n",
    "width = 0.35  # the width of the bars\n",
    "\n",
    "fig2, ax2 = plt.subplots()\n",
    "rects3 = ax2.bar(x - width/2, src_to_offcampy, width, label='Source > OffCampus')\n",
    "rects4 = ax2.bar(x + width/2, offcampy_to_src, width, label='OffCampus > Source')\n",
    "\n",
    "# Add some text for labels, title and custom x-axis tick labels, etc.\n",
    "ax2.set_ylabel('Speed (MB/s)')\n",
    "ax2.set_title('DTN Comparison to and from OffCampus Endpoint')\n",
    "ax2.set_xticks(x2)\n",
    "ax2.set_xticklabels(ds_names)\n",
    "ax2.legend()\n",
    "\n",
    "autolabel(rects3)\n",
    "autolabel(rects4)\n",
    "\n",
    "fig.tight_layout()\n",
    "\n",
    "plt.show()"
   ]
  },
  {
   "cell_type": "code",
   "execution_count": null,
   "metadata": {},
   "outputs": [],
   "source": []
  }
 ],
 "metadata": {
  "kernelspec": {
   "display_name": "Python (env)",
   "language": "python",
   "name": "env"
  },
  "language_info": {
   "codemirror_mode": {
    "name": "ipython",
    "version": 3
   },
   "file_extension": ".py",
   "mimetype": "text/x-python",
   "name": "python",
   "nbconvert_exporter": "python",
   "pygments_lexer": "ipython3",
   "version": "3.8.5"
  }
 },
 "nbformat": 4,
 "nbformat_minor": 4
}
