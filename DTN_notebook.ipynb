{
 "cells": [
  {
   "cell_type": "code",
   "execution_count": 2,
   "metadata": {},
   "outputs": [],
   "source": [
    "import globus_sdk"
   ]
  },
  {
   "cell_type": "code",
   "execution_count": 8,
   "metadata": {},
   "outputs": [
    {
     "name": "stdout",
     "output_type": "stream",
     "text": [
      "Please go to this URL and login: https://auth.globus.org/v2/oauth2/authorize?client_id=7a71f6ff-14d4-4e3a-8dbf-0e23a573f519&redirect_uri=https%3A%2F%2Fauth.globus.org%2Fv2%2Fweb%2Fauth-code&scope=openid+profile+email+urn%3Aglobus%3Aauth%3Ascope%3Atransfer.api.globus.org%3Aall&state=_default&response_type=code&code_challenge=6hB7KldBBrw6XkRPOfu2Tu3QDumWIHR7Aqv4SgrH-5U&code_challenge_method=S256&access_type=online\n",
      "Please enter the code you get after login here: XNqRXwiGCpyRMsRDeBoQdG199ytZfH\n"
     ]
    }
   ],
   "source": [
    "''' Code to get access token'''\n",
    "\n",
    "CLIENT_ID = '7a71f6ff-14d4-4e3a-8dbf-0e23a573f519' # this can be obtained from Apps and Services -> Projects -> Client ID \n",
    "\n",
    "client = globus_sdk.NativeAppAuthClient(CLIENT_ID)\n",
    "client.oauth2_start_flow()\n",
    "\n",
    "authorize_url = client.oauth2_get_authorize_url()\n",
    "print('Please go to this URL and login: {0}'.format(authorize_url))\n",
    "\n",
    "# this is to work on Python2 and Python3 -- you can just use raw_input() or\n",
    "# input() for your specific version\n",
    "get_input = getattr(__builtins__, 'raw_input', input)\n",
    "auth_code = get_input(\n",
    "    'Please enter the code you get after login here: ').strip()\n",
    "token_response = client.oauth2_exchange_code_for_tokens(auth_code)\n",
    "\n",
    "globus_auth_data = token_response.by_resource_server['auth.globus.org']\n",
    "globus_transfer_data = token_response.by_resource_server['transfer.api.globus.org']\n",
    "\n",
    "# most specifically, you want these tokens as strings\n",
    "AUTH_TOKEN = globus_auth_data['access_token']\n",
    "TRANSFER_TOKEN = globus_transfer_data['access_token']"
   ]
  },
  {
   "cell_type": "code",
   "execution_count": 9,
   "metadata": {},
   "outputs": [
    {
     "name": "stdout",
     "output_type": "stream",
     "text": [
      "My Endpoints:\n",
      "[606579ae-5b03-11e9-bf32-0edbf3a4e7ee] cac_dtn_test\n",
      "[7167cb38-9f78-11e6-b0dd-22000b92c261] Cheaha cluster off-campus (UAB Science DMZ)\n",
      "[9c8c88c2-ea4a-11e6-b9ba-22000b9a448b] Cheaha cluster on-campus (UAB Science DMZ)\n",
      "[db57ddde-6d04-11e5-ba46-22000b92c6ec] ESnet Read-Only Test DTN at Sunnyvale\n",
      "[ff3045ea-a112-11ea-8f07-0a21f750d19b] Work Mac\n"
     ]
    }
   ],
   "source": [
    "# a GlobusAuthorizer is an auxiliary object we use to wrap the token. In\n",
    "# more advanced scenarios, other types of GlobusAuthorizers give us\n",
    "# expressive power\n",
    "authorizer = globus_sdk.AccessTokenAuthorizer(TRANSFER_TOKEN)\n",
    "tc = globus_sdk.TransferClient(authorizer=authorizer)\n",
    "\n",
    "# high level interface; provides iterators for list responses\n",
    "print(\"My Endpoints:\")\n",
    "for ep in tc.endpoint_search(filter_scope=\"recently-used\"):\n",
    "    print(\"[{}] {}\".format(ep[\"id\"], ep[\"display_name\"]))"
   ]
  },
  {
   "cell_type": "code",
   "execution_count": 15,
   "metadata": {},
   "outputs": [
    {
     "name": "stdout",
     "output_type": "stream",
     "text": [
      "task_id = 37948d26-032c-11eb-81a3-0e2f230cc907\n"
     ]
    }
   ],
   "source": [
    "destination_endpoint_id = \"9c8c88c2-ea4a-11e6-b9ba-22000b9a448b\"\n",
    "source_endpoint_id = \"606579ae-5b03-11e9-bf32-0edbf3a4e7ee\"\n",
    "tdata = globus_sdk.TransferData(tc, source_endpoint_id,\n",
    "                                 destination_endpoint_id,\n",
    "                                 label=\"Dataset test\",\n",
    "                                sync_level=None, verify_checksum=True)\n",
    "tdata.add_item(\"/datasets/ds04\", \"/data/user/mmoo97/TEST_TRANSFER/\",\n",
    "                recursive=True)\n",
    "# tdata.add_item(\"/source/path/file.txt\",\n",
    "#                \"/dest/path/file.txt\")\n",
    "transfer_result = tc.submit_transfer(tdata)\n",
    "print(\"task_id =\", transfer_result[\"task_id\"])"
   ]
  },
  {
   "cell_type": "code",
   "execution_count": 19,
   "metadata": {},
   "outputs": [
    {
     "name": "stdout",
     "output_type": "stream",
     "text": [
      "Task Status: SUCCEEDED\n",
      "Effective Speed: 186.71 MB/s\n"
     ]
    }
   ],
   "source": [
    "task = tc.get_task(transfer_result[\"task_id\"])\n",
    "if task[\"status\"] == \"SUCCEEDED\":\n",
    "    print(\"Task Status: \" + task[\"status\"])\n",
    "    print(\"Effective Speed: \" + str(round(task[\"effective_bytes_per_second\"]/(1024*1024), 2)) + \" MB/s\")\n",
    "else:\n",
    "    print(\"Task Status: \" + task[\"status\"])"
   ]
  },
  {
   "cell_type": "code",
   "execution_count": null,
   "metadata": {},
   "outputs": [],
   "source": []
  }
 ],
 "metadata": {
  "kernelspec": {
   "display_name": "Python (env)",
   "language": "python",
   "name": "env"
  },
  "language_info": {
   "codemirror_mode": {
    "name": "ipython",
    "version": 3
   },
   "file_extension": ".py",
   "mimetype": "text/x-python",
   "name": "python",
   "nbconvert_exporter": "python",
   "pygments_lexer": "ipython3",
   "version": "3.8.5"
  }
 },
 "nbformat": 4,
 "nbformat_minor": 4
}
