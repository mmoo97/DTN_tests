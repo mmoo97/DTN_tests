{
 "cells": [
  {
   "cell_type": "code",
   "execution_count": null,
   "metadata": {},
   "outputs": [],
   "source": [
    "import globus_sdk\n",
    "import matplotlib.pyplot as plt\n",
    "import numpy as np\n",
    "import csv\n",
    "import pandas as pd\n",
    "from datetime import datetime, timedelta\n",
    "from mpl_toolkits.mplot3d import Axes3D"
   ]
  },
  {
   "cell_type": "code",
   "execution_count": null,
   "metadata": {},
   "outputs": [],
   "source": [
    "\"\"\" Read Files into DataFrame objects \"\"\"\n",
    "\n",
    "data = pd.read_csv(\"test.csv\") # reads comma delimited file into a DataFrame object\n",
    "off_campus = pd.read_csv(\"offcampus_data.csv\")\n",
    "on_campus = pd.read_csv(\"oncampus_data.csv\")\n",
    "data.head(16) # returns the first n rows of the DataFrame, n here is 16"
   ]
  },
  {
   "cell_type": "code",
   "execution_count": null,
   "metadata": {},
   "outputs": [],
   "source": [
    "\"\"\" Builds a 3D plot based on the elapsed time values using pandas and matplotlib \"\"\"\n",
    "\n",
    "# plot\n",
    "fig = plt.figure(figsize=(10, 10))\n",
    "ax = fig.add_subplot(111, projection='3d')\n",
    "ax.scatter(range(len(data['Dataset'])), data['Speed'],(pd.to_datetime(data['End'], infer_datetime_format=True) - pd.to_datetime(data['Start'], infer_datetime_format=True)).dt.total_seconds() / 60,  c='navy', s=60)\n",
    "ax.set(xticks=range(len(data['Dataset'])), xticklabels=data['Dataset'])\n",
    "plt.xticks(rotation=45)\n",
    "plt.show()"
   ]
  },
  {
   "cell_type": "code",
   "execution_count": null,
   "metadata": {},
   "outputs": [],
   "source": [
    "\"\"\" Builds bar graphs to represent transfer speeds for different datasets \"\"\"\n",
    "\n",
    "#plot\n",
    "bg1 = data.plot.bar(x = 'Dataset', y = 'Speed', rot = 100) # graph shows the speed for each ds\n"
   ]
  },
  {
   "cell_type": "code",
   "execution_count": null,
   "metadata": {},
   "outputs": [],
   "source": [
    "\"\"\" Builds bar graphs to represent data for different endpoints \"\"\"\n",
    "\"\"\"\n",
    "#time = (pd.to_datetime(data['End'], infer_datetime_format=True) - pd.to_datetime(data['Start']\n",
    "bg2 = data.plot.bar(x = \"Dataset\",\n",
    "                    y = (pd.to_datetime(data['End'], \n",
    "                    infer_datetime_format=True) - pd.to_datetime(data['Start'])),\n",
    "                    rot=100)\n",
    "\"\"\""
   ]
  },
  {
   "cell_type": "code",
   "execution_count": null,
   "metadata": {},
   "outputs": [],
   "source": [
    "\"\"\" Builds scatter plots to represent transfer speeds for different datasets \"\"\"\n",
    "\n",
    "plt.scatter((data['Dataset']), data['Speed'])\n",
    "plt.title('Dataset Speed')\n",
    "plt.xlabel('Dataset')\n",
    "plt.ylabel('Speed')\n",
    "plt.show()\n",
    "\n",
    "color = [\"r\",\"r\",\"g\",\"r\",\"r\",\"g\",\"r\",\"r\",\"r\",\"g\"]\n",
    "df = pd.DataFrame( {\"frequency\" : frequency, \"color\" : color})\n",
    "df.sort_values(\"frequency\", inplace=True)\n",
    "\n",
    "plt.scatter(x=range(len(df)), y= df[\"frequency\"], c = df[\"color\"])\n",
    "plt.show()\n"
   ]
  },
  {
   "cell_type": "code",
   "execution_count": null,
   "metadata": {},
   "outputs": [],
   "source": []
  }
 ],
 "metadata": {
  "kernelspec": {
   "display_name": "Python (conda_env)",
   "language": "python",
   "name": "conda_env"
  },
  "language_info": {
   "codemirror_mode": {
    "name": "ipython",
    "version": 3
   },
   "file_extension": ".py",
   "mimetype": "text/x-python",
   "name": "python",
   "nbconvert_exporter": "python",
   "pygments_lexer": "ipython3",
   "version": "3.8.5"
  }
 },
 "nbformat": 4,
 "nbformat_minor": 4
}
