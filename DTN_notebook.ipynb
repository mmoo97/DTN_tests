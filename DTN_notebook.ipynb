{
 "cells": [
  {
   "cell_type": "code",
   "execution_count": 18,
   "metadata": {},
   "outputs": [],
   "source": [
    "import globus_sdk"
   ]
  },
  {
   "cell_type": "code",
   "execution_count": 2,
   "metadata": {},
   "outputs": [],
   "source": [
    "''' Access Variables '''\n",
    "\n",
    "CLIENT_ID = '7a71f6ff-14d4-4e3a-8dbf-0e23a573f519' # this can be obtained from Apps and Services -> Projects -> Client ID\n",
    "destination_endpoint_id = \"9c8c88c2-ea4a-11e6-b9ba-22000b9a448b\" \n",
    "source_endpoint_id_list = [\"924a32b0-6a2a-11e6-83a8-22000b97daec\"]\n",
    "source_dirs = \"/globus/datasets/ds01/\"\n",
    "dest_dir = \"/data/user/mmoo97/TEST_TRANSFER/\""
   ]
  },
  {
   "cell_type": "code",
   "execution_count": 4,
   "metadata": {},
   "outputs": [
    {
     "name": "stdout",
     "output_type": "stream",
     "text": [
     ]
    }
   ],
   "source": [
    "''' Code to get access token'''\n",
    "\n",
    "client = globus_sdk.NativeAppAuthClient(CLIENT_ID)\n",
    "client.oauth2_start_flow(refresh_tokens=True)\n",
    "\n",
    "authorize_url = client.oauth2_get_authorize_url()\n",
    "print('Please go to this URL and login: {0}'.format(authorize_url))\n",
    "\n",
    "# this is to work on Python2 and Python3 -- you can just use raw_input() or\n",
    "# input() for your specific version\n",
    "get_input = getattr(__builtins__, 'raw_input', input)\n",
    "auth_code = get_input(\n",
    "    'Please enter the code you get after login here: ').strip()\n",
    "token_response = client.oauth2_exchange_code_for_tokens(auth_code)\n",
    "\n",
    "globus_auth_data = token_response.by_resource_server['auth.globus.org']\n",
    "globus_transfer_data = token_response.by_resource_server['transfer.api.globus.org']\n",
    "# the refresh token and access token, often abbr. as RT and AT\n",
    "transfer_rt = globus_transfer_data['refresh_token']\n",
    "transfer_at = globus_transfer_data['access_token']\n",
    "expires_at_s = globus_transfer_data['expires_at_seconds']\n"
   ]
  },
  {
   "cell_type": "code",
   "execution_count": 5,
   "metadata": {},
   "outputs": [
    {
     "name": "stdout",
     "output_type": "stream",
     "text": [
      "My Endpoints:\n",
      "[606579ae-5b03-11e9-bf32-0edbf3a4e7ee] cac_dtn_test\n",
      "[69b0dc3c-cdb3-11ea-8f2b-0a21f750d19b] cclint\n",
      "[9c8c88c2-ea4a-11e6-b9ba-22000b9a448b] Cheaha cluster on-campus (UAB Science DMZ)\n",
      "[e261ffb8-6d04-11e5-ba46-22000b92c6ec] DME PerfTest - Argonne\n"
     ]
    }
   ],
   "source": [
    "# Now we've got the data we need, but what do we do?\n",
    "# That \"GlobusAuthorizer\" from before is about to come to the rescue\n",
    "\n",
    "authorizer = globus_sdk.RefreshTokenAuthorizer(\n",
    "    transfer_rt, client, access_token=transfer_at, expires_at=expires_at_s)\n",
    "\n",
    "tc = globus_sdk.TransferClient(authorizer=authorizer)\n",
    "\n",
    "# high level interface; provides iterators for list responses\n",
    "print(\"My Endpoints:\")\n",
    "for ep in tc.endpoint_search(filter_scope=\"recently-used\"):\n",
    "    print(\"[{}] {}\".format(ep[\"id\"], ep[\"display_name\"]))"
   ]
  },
  {
   "cell_type": "code",
   "execution_count": 17,
   "metadata": {},
   "outputs": [
    {
     "ename": "TransferAPIError",
     "evalue": "(409, 'NoCredException', \"Credentials have expired for 'uab#dtn2-int'\", 'zXOvveskD')",
     "output_type": "error",
     "traceback": [
      "\u001b[0;31m---------------------------------------------------------------------------\u001b[0m",
      "\u001b[0;31mTransferAPIError\u001b[0m                          Traceback (most recent call last)",
      "\u001b[0;32m<ipython-input-17-49c389feae2f>\u001b[0m in \u001b[0;36m<module>\u001b[0;34m\u001b[0m\n\u001b[1;32m      9\u001b[0m tdata.add_item(source_dirs, dest_dir,\n\u001b[1;32m     10\u001b[0m                 recursive=True)\n\u001b[0;32m---> 11\u001b[0;31m \u001b[0mtransfer_result\u001b[0m \u001b[0;34m=\u001b[0m \u001b[0mtc\u001b[0m\u001b[0;34m.\u001b[0m\u001b[0msubmit_transfer\u001b[0m\u001b[0;34m(\u001b[0m\u001b[0mtdata\u001b[0m\u001b[0;34m)\u001b[0m\u001b[0;34m\u001b[0m\u001b[0;34m\u001b[0m\u001b[0m\n\u001b[0m\u001b[1;32m     12\u001b[0m \u001b[0mprint\u001b[0m\u001b[0;34m(\u001b[0m\u001b[0;34m\"task_id =\"\u001b[0m\u001b[0;34m,\u001b[0m \u001b[0mtransfer_result\u001b[0m\u001b[0;34m[\u001b[0m\u001b[0;34m\"task_id\"\u001b[0m\u001b[0;34m]\u001b[0m\u001b[0;34m)\u001b[0m\u001b[0;34m\u001b[0m\u001b[0;34m\u001b[0m\u001b[0m\n",
      "\u001b[0;32m~/.conda/envs/env/lib/python3.8/site-packages/globus_sdk/transfer/client.py\u001b[0m in \u001b[0;36msubmit_transfer\u001b[0;34m(self, data)\u001b[0m\n\u001b[1;32m   1189\u001b[0m         \"\"\"\n\u001b[1;32m   1190\u001b[0m         \u001b[0mself\u001b[0m\u001b[0;34m.\u001b[0m\u001b[0mlogger\u001b[0m\u001b[0;34m.\u001b[0m\u001b[0minfo\u001b[0m\u001b[0;34m(\u001b[0m\u001b[0;34m\"TransferClient.submit_transfer(...)\"\u001b[0m\u001b[0;34m)\u001b[0m\u001b[0;34m\u001b[0m\u001b[0;34m\u001b[0m\u001b[0m\n\u001b[0;32m-> 1191\u001b[0;31m         \u001b[0;32mreturn\u001b[0m \u001b[0mself\u001b[0m\u001b[0;34m.\u001b[0m\u001b[0mpost\u001b[0m\u001b[0;34m(\u001b[0m\u001b[0;34m\"/transfer\"\u001b[0m\u001b[0;34m,\u001b[0m \u001b[0mdata\u001b[0m\u001b[0;34m)\u001b[0m\u001b[0;34m\u001b[0m\u001b[0;34m\u001b[0m\u001b[0m\n\u001b[0m\u001b[1;32m   1192\u001b[0m \u001b[0;34m\u001b[0m\u001b[0m\n\u001b[1;32m   1193\u001b[0m     \u001b[0;32mdef\u001b[0m \u001b[0msubmit_delete\u001b[0m\u001b[0;34m(\u001b[0m\u001b[0mself\u001b[0m\u001b[0;34m,\u001b[0m \u001b[0mdata\u001b[0m\u001b[0;34m)\u001b[0m\u001b[0;34m:\u001b[0m\u001b[0;34m\u001b[0m\u001b[0;34m\u001b[0m\u001b[0m\n",
      "\u001b[0;32m~/.conda/envs/env/lib/python3.8/site-packages/globus_sdk/base.py\u001b[0m in \u001b[0;36mpost\u001b[0;34m(self, path, json_body, params, headers, text_body, response_class, retry_401)\u001b[0m\n\u001b[1;32m    277\u001b[0m         \"\"\"\n\u001b[1;32m    278\u001b[0m         \u001b[0mself\u001b[0m\u001b[0;34m.\u001b[0m\u001b[0mlogger\u001b[0m\u001b[0;34m.\u001b[0m\u001b[0mdebug\u001b[0m\u001b[0;34m(\u001b[0m\u001b[0;34m\"POST to {} with params {}\"\u001b[0m\u001b[0;34m.\u001b[0m\u001b[0mformat\u001b[0m\u001b[0;34m(\u001b[0m\u001b[0mpath\u001b[0m\u001b[0;34m,\u001b[0m \u001b[0mparams\u001b[0m\u001b[0;34m)\u001b[0m\u001b[0;34m)\u001b[0m\u001b[0;34m\u001b[0m\u001b[0;34m\u001b[0m\u001b[0m\n\u001b[0;32m--> 279\u001b[0;31m         return self._request(\n\u001b[0m\u001b[1;32m    280\u001b[0m             \u001b[0;34m\"POST\"\u001b[0m\u001b[0;34m,\u001b[0m\u001b[0;34m\u001b[0m\u001b[0;34m\u001b[0m\u001b[0m\n\u001b[1;32m    281\u001b[0m             \u001b[0mpath\u001b[0m\u001b[0;34m,\u001b[0m\u001b[0;34m\u001b[0m\u001b[0;34m\u001b[0m\u001b[0m\n",
      "\u001b[0;32m~/.conda/envs/env/lib/python3.8/site-packages/globus_sdk/base.py\u001b[0m in \u001b[0;36m_request\u001b[0;34m(self, method, path, params, headers, json_body, text_body, response_class, retry_401)\u001b[0m\n\u001b[1;32m    550\u001b[0m             \u001b[0;34m\"request completed with (error) response code: {}\"\u001b[0m\u001b[0;34m.\u001b[0m\u001b[0mformat\u001b[0m\u001b[0;34m(\u001b[0m\u001b[0mr\u001b[0m\u001b[0;34m.\u001b[0m\u001b[0mstatus_code\u001b[0m\u001b[0;34m)\u001b[0m\u001b[0;34m\u001b[0m\u001b[0;34m\u001b[0m\u001b[0m\n\u001b[1;32m    551\u001b[0m         )\n\u001b[0;32m--> 552\u001b[0;31m         \u001b[0;32mraise\u001b[0m \u001b[0mself\u001b[0m\u001b[0;34m.\u001b[0m\u001b[0merror_class\u001b[0m\u001b[0;34m(\u001b[0m\u001b[0mr\u001b[0m\u001b[0;34m)\u001b[0m\u001b[0;34m\u001b[0m\u001b[0;34m\u001b[0m\u001b[0m\n\u001b[0m\u001b[1;32m    553\u001b[0m \u001b[0;34m\u001b[0m\u001b[0m\n\u001b[1;32m    554\u001b[0m \u001b[0;34m\u001b[0m\u001b[0m\n",
      "\u001b[0;31mTransferAPIError\u001b[0m: (409, 'NoCredException', \"Credentials have expired for 'uab#dtn2-int'\", 'zXOvveskD')"
     ]
    }
   ],
   "source": [
    "tdata = globus_sdk.TransferData(tc, source_endpoint_id_list[0],\n",
    "                                 destination_endpoint_id,\n",
    "                                 label=\"Dataset Test\",\n",
    "                                sync_level=None, verify=\"checksum\")\n",
    "# tdata.add_item(\"/globus/datasets/ds04/\", \"/data/user/mmoo97/TEST_TRANSFER/\",\n",
    "#                 recursive=True)\n",
    "# for item in tdata.items:\n",
    "#     print(item)\n",
    "tdata.add_item(source_dirs, dest_dir,\n",
    "                recursive=True)\n",
    "transfer_result = tc.submit_transfer(tdata)\n",
    "print(\"task_id =\", transfer_result[\"task_id\"])"
   ]
  },
  {
   "cell_type": "code",
   "execution_count": 22,
   "metadata": {},
   "outputs": [
    {
     "name": "stdout",
     "output_type": "stream",
     "text": [
      "Task Status: ACTIVE\n",
      "MB Transferred: 0.0 MB\n"
     ]
    }
   ],
   "source": [
    "task = tc.get_task(transfer_result[\"task_id\"])\n",
    "if task[\"status\"] == \"SUCCEEDED\":\n",
    "    print(\"Task Status: \" + task[\"status\"])\n",
    "    print(\"Effective Speed: \" + str(round(task[\"effective_bytes_per_second\"]/(1024*1024), 2)) + \" MB/s\")\n",
    "else:\n",
    "    print(\"Task Status: \" + task[\"status\"])\n",
    "    print(\"MB Transferred: \" + str(round(task[\"bytes_transferred\"]/1000000, 2)) + \" MB\")"
   ]
  },
  {
   "cell_type": "code",
   "execution_count": null,
   "metadata": {},
   "outputs": [],
   "source": []
  }
 ],
 "metadata": {
  "kernelspec": {
   "display_name": "Python (conda_env)",
   "language": "python",
   "name": "conda_env"
  },
  "language_info": {
   "codemirror_mode": {
    "name": "ipython",
    "version": 3
   },
   "file_extension": ".py",
   "mimetype": "text/x-python",
   "name": "python",
   "nbconvert_exporter": "python",
   "pygments_lexer": "ipython3",
   "version": "3.8.5"
  }
 },
 "nbformat": 4,
 "nbformat_minor": 4
}
