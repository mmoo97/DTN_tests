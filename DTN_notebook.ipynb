{
 "cells": [
  {
   "cell_type": "code",
   "execution_count": 1,
   "metadata": {},
   "outputs": [],
   "source": [
    "from globus_sdk import LocalGlobusConnectPersonal"
   ]
  },
  {
   "cell_type": "code",
   "execution_count": null,
   "metadata": {},
   "outputs": [],
   "source": [
    "''' Code to get access token'''\n",
    "\n",
    "CLIENT_ID = 'fdcd6d02-a6a4-44d3-bbb8-89cfc8b6edd2' # this can be obtained from Apps and Services -> Projects -> Client ID \n",
    "\n",
    "client = globus_sdk.NativeAppAuthClient(CLIENT_ID)\n",
    "client.oauth2_start_flow()\n",
    "\n",
    "authorize_url = client.oauth2_get_authorize_url()\n",
    "print('Please go to this URL and login: {0}'.format(authorize_url))\n",
    "\n",
    "# this is to work on Python2 and Python3 -- you can just use raw_input() or\n",
    "# input() for your specific version\n",
    "get_input = getattr(__builtins__, 'raw_input', input)\n",
    "auth_code = get_input(\n",
    "    'Please enter the code you get after login here: ').strip()\n",
    "token_response = client.oauth2_exchange_code_for_tokens(auth_code)\n",
    "\n",
    "globus_auth_data = token_response.by_resource_server['auth.globus.org']\n",
    "globus_transfer_data = token_response.by_resource_server['transfer.api.globus.org']\n",
    "\n",
    "# most specifically, you want these tokens as strings\n",
    "AUTH_TOKEN = globus_auth_data['access_token']\n",
    "TRANSFER_TOKEN = globus_transfer_data['access_token']"
   ]
  }
 ],
 "metadata": {
  "kernelspec": {
   "display_name": "Python (conda_env)",
   "language": "python",
   "name": "conda_env"
  },
  "language_info": {
   "codemirror_mode": {
    "name": "ipython",
    "version": 3
   },
   "file_extension": ".py",
   "mimetype": "text/x-python",
   "name": "python",
   "nbconvert_exporter": "python",
   "pygments_lexer": "ipython3",
   "version": "3.8.5"
  }
 },
 "nbformat": 4,
 "nbformat_minor": 4
}
