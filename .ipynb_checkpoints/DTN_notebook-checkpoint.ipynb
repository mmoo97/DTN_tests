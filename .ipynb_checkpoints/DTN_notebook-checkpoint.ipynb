{
 "cells": [
  {
   "cell_type": "code",
   "execution_count": 3,
   "metadata": {},
   "outputs": [],
   "source": [
    "import globus_sdk"
   ]
  },
  {
   "cell_type": "code",
   "execution_count": 5,
   "metadata": {},
   "outputs": [
    {
     "name": "stdout",
     "output_type": "stream",
     "text": [
      "Please go to this URL and login: https://auth.globus.org/v2/oauth2/authorize?client_id=7a71f6ff-14d4-4e3a-8dbf-0e23a573f519&redirect_uri=https%3A%2F%2Fauth.globus.org%2Fv2%2Fweb%2Fauth-code&scope=openid+profile+email+urn%3Aglobus%3Aauth%3Ascope%3Atransfer.api.globus.org%3Aall&state=_default&response_type=code&code_challenge=xoys4-jhDi_aDAo5OV_Fjmib7iQ2JFYPikeLmvCwu4Y&code_challenge_method=S256&access_type=online\n",
      "Please enter the code you get after login here: Tz63KlSA2SSW6Cn55CyoHtvTNOHhGV\n"
     ]
    }
   ],
   "source": [
    "''' Code to get access token'''\n",
    "\n",
    "CLIENT_ID = '' # this can be obtained from Apps and Services -> Projects -> Client ID \n",
    "\n",
    "client = globus_sdk.NativeAppAuthClient(CLIENT_ID)\n",
    "client.oauth2_start_flow()\n",
    "\n",
    "authorize_url = client.oauth2_get_authorize_url()\n",
    "print('Please go to this URL and login: {0}'.format(authorize_url))\n",
    "\n",
    "# this is to work on Python2 and Python3 -- you can just use raw_input() or\n",
    "# input() for your specific version\n",
    "get_input = getattr(__builtins__, 'raw_input', input)\n",
    "auth_code = get_input(\n",
    "    'Please enter the code you get after login here: ').strip()\n",
    "token_response = client.oauth2_exchange_code_for_tokens(auth_code)\n",
    "\n",
    "globus_auth_data = token_response.by_resource_server['auth.globus.org']\n",
    "globus_transfer_data = token_response.by_resource_server['transfer.api.globus.org']\n",
    "\n",
    "# most specifically, you want these tokens as strings\n",
    "AUTH_TOKEN = globus_auth_data['access_token']\n",
    "TRANSFER_TOKEN = globus_transfer_data['access_token']"
   ]
  },
  {
   "cell_type": "code",
   "execution_count": 6,
   "metadata": {},
   "outputs": [
    {
     "name": "stdout",
     "output_type": "stream",
     "text": [
      "My Endpoints:\n",
      "[ff3045ea-a112-11ea-8f07-0a21f750d19b] Work Mac\n"
     ]
    }
   ],
   "source": [
    "# a GlobusAuthorizer is an auxiliary object we use to wrap the token. In\n",
    "# more advanced scenarios, other types of GlobusAuthorizers give us\n",
    "# expressive power\n",
    "authorizer = globus_sdk.AccessTokenAuthorizer(TRANSFER_TOKEN)\n",
    "tc = globus_sdk.TransferClient(authorizer=authorizer)\n",
    "\n",
    "# high level interface; provides iterators for list responses\n",
    "print(\"My Endpoints:\")\n",
    "for ep in tc.endpoint_search(filter_scope=\"my-endpoints\"):\n",
    "    print(\"[{}] {}\".format(ep[\"id\"], ep[\"display_name\"]))"
   ]
  },
  {
   "cell_type": "code",
   "execution_count": null,
   "metadata": {},
   "outputs": [],
   "source": []
  }
 ],
 "metadata": {
  "kernelspec": {
   "display_name": "Python (env)",
   "language": "python",
   "name": "env"
  },
  "language_info": {
   "codemirror_mode": {
    "name": "ipython",
    "version": 3
   },
   "file_extension": ".py",
   "mimetype": "text/x-python",
   "name": "python",
   "nbconvert_exporter": "python",
   "pygments_lexer": "ipython3",
   "version": "3.8.5"
  }
 },
 "nbformat": 4,
 "nbformat_minor": 4
}
